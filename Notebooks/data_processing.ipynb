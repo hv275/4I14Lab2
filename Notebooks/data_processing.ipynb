{
 "cells": [
  {
   "cell_type": "code",
   "execution_count": null,
   "metadata": {
    "pycharm": {
     "name": "#%%\n"
    }
   },
   "outputs": [],
   "source": [
    "import pandas as pd\n",
    "import numpy as np\n",
    "import openpyxl\n",
    "import os\n",
    "from pprint import pprint\n",
    "import matplotlib.pyplot as plt"
   ]
  },
  {
   "cell_type": "code",
   "execution_count": null,
   "metadata": {
    "pycharm": {
     "name": "#%%\n"
    }
   },
   "outputs": [
    {
     "name": "stderr",
     "output_type": "stream",
     "text": [
      "/opt/homebrew/lib/python3.10/site-packages/openpyxl/worksheet/_reader.py:312: UserWarning: Unknown extension is not supported and will be removed\n",
      "  warn(msg)\n"
     ]
    }
   ],
   "source": [
    "# get all the files with results from the directory\n",
    "files = os.listdir(\"../Lab Results\")\n",
    "glucose_readings = []\n",
    "# define where in the spreadsheet the results lie\n",
    "meter_ranges = {\"AC-Aviva\":[\"B\",\"E\"], \"Accu-check Performa\":[\"H\",\"K\"], \"eBwell\": [\"N\", \"Q\"], \"TrueMetrix\": [\"T\",\"W\"]}\n",
    "# state the row in which the results for each sample lie\n",
    "sample_rows = {\"A\":8,\"B\":9,\"C\":10, \"D\":11, \"A*\":13,\"B*\":14,\"C*\":15,\"D*\":16, \"F*\":18, \"G*\":19}\n",
    "# state the reference concentrations for each sample, this may need changing based on lab\n",
    "refs = {\"A\": 3.9, \"B\":5.0, \"C\":6.1, \"D\":7.2, \"F*\":29.2, \"G*\":5.0, \"A*\": 3.9, \"B*\":5.0, \"C*\":6.1, \"D*\":7.2}\n",
    "# looping badness but I am not crunching a lot of data\n",
    "# as stated, code below is not that nice but does a good job of organising all the data in a single place\n",
    "for file in files:\n",
    "    workbook = openpyxl.load_workbook(f\"../Lab Results/{file}\")\n",
    "    readings = workbook[\"Group 1 Readings\"]\n",
    "    for meter, cols in meter_ranges.items():\n",
    "        for sample, row in sample_rows.items():\n",
    "            range = f\"{cols[0]}{row}:{cols[1]}{row}\"\n",
    "            results = [result.value for result in readings[range][0] if result.value] \n",
    "            if results:\n",
    "                for result in results:\n",
    "                    glucose_readings.append({\"Sample\":sample,\"Meter\":meter,\"Reference\": refs[sample], \"Glucose Reading\": result, \"Haematocrit\": sample.endswith(\"*\")})"
   ]
  },
  {
   "cell_type": "code",
   "execution_count": null,
   "metadata": {
    "pycharm": {
     "name": "#%%\n"
    }
   },
   "outputs": [
    {
     "data": {
      "text/html": [
       "<div>\n",
       "<style scoped>\n",
       "    .dataframe tbody tr th:only-of-type {\n",
       "        vertical-align: middle;\n",
       "    }\n",
       "\n",
       "    .dataframe tbody tr th {\n",
       "        vertical-align: top;\n",
       "    }\n",
       "\n",
       "    .dataframe thead th {\n",
       "        text-align: right;\n",
       "    }\n",
       "</style>\n",
       "<table border=\"1\" class=\"dataframe\">\n",
       "  <thead>\n",
       "    <tr style=\"text-align: right;\">\n",
       "      <th></th>\n",
       "      <th>Sample</th>\n",
       "      <th>Reference</th>\n",
       "      <th>Glucose Reading</th>\n",
       "      <th>Haematocrit</th>\n",
       "    </tr>\n",
       "    <tr>\n",
       "      <th>Meter</th>\n",
       "      <th></th>\n",
       "      <th></th>\n",
       "      <th></th>\n",
       "      <th></th>\n",
       "    </tr>\n",
       "  </thead>\n",
       "  <tbody>\n",
       "    <tr>\n",
       "      <th>AC-Aviva</th>\n",
       "      <td>28</td>\n",
       "      <td>28</td>\n",
       "      <td>28</td>\n",
       "      <td>28</td>\n",
       "    </tr>\n",
       "    <tr>\n",
       "      <th>Accu-check Performa</th>\n",
       "      <td>59</td>\n",
       "      <td>59</td>\n",
       "      <td>59</td>\n",
       "      <td>59</td>\n",
       "    </tr>\n",
       "    <tr>\n",
       "      <th>TrueMetrix</th>\n",
       "      <td>91</td>\n",
       "      <td>91</td>\n",
       "      <td>91</td>\n",
       "      <td>91</td>\n",
       "    </tr>\n",
       "    <tr>\n",
       "      <th>eBwell</th>\n",
       "      <td>90</td>\n",
       "      <td>90</td>\n",
       "      <td>90</td>\n",
       "      <td>90</td>\n",
       "    </tr>\n",
       "  </tbody>\n",
       "</table>\n",
       "</div>"
      ],
      "text/plain": [
       "                     Sample  Reference  Glucose Reading  Haematocrit\n",
       "Meter                                                               \n",
       "AC-Aviva                 28         28               28           28\n",
       "Accu-check Performa      59         59               59           59\n",
       "TrueMetrix               91         91               91           91\n",
       "eBwell                   90         90               90           90"
      ]
     },
     "execution_count": 10,
     "metadata": {},
     "output_type": "execute_result"
    }
   ],
   "source": [
    "# now we can make a nice data frame with data\n",
    "readings_df = pd.DataFrame(glucose_readings)\n",
    "# clean up data types by taking the subset of only float values\n",
    "clean_readings_df = readings_df[readings_df[\"Glucose Reading\"].apply(lambda x: type(x)==float)]\n",
    "# dump results to excel\n",
    "clean_readings_df.to_excel(\"collated_results.xlsx\")\n",
    "# sense check that we have the correct number of results\n",
    "readings_df.groupby(\"Meter\").count()"
   ]
  },
  {
   "cell_type": "code",
   "execution_count": null,
   "metadata": {
    "pycharm": {
     "name": "#%%\n"
    }
   },
   "outputs": [],
   "source": [
    "meter_dfs = []\n",
    "# output the results for each meter into the format that graph generating website can read\n",
    "for meter in meter_ranges.keys():\n",
    "    meter_results = (clean_readings_df[clean_readings_df[\"Meter\"]==meter]*18)\n",
    "    meter_results[[\"Glucose Reading\", \"Reference\"]].astype(int).to_csv(f\"../meter_csvs/{meter}.csv\", index=False, header=[\"BGM\",\"REF\"])\n"
   ]
  },
  {
   "cell_type": "code",
   "execution_count": null,
   "metadata": {
    "pycharm": {
     "name": "#%%\n"
    }
   },
   "outputs": [
    {
     "name": "stderr",
     "output_type": "stream",
     "text": [
      "/var/folders/mm/gnbdjwnd69l7pysl0_92wpfc0000gn/T/ipykernel_21268/3926547570.py:2: SettingWithCopyWarning: \n",
      "A value is trying to be set on a copy of a slice from a DataFrame.\n",
      "Try using .loc[row_indexer,col_indexer] = value instead\n",
      "\n",
      "See the caveats in the documentation: https://pandas.pydata.org/pandas-docs/stable/user_guide/indexing.html#returning-a-view-versus-a-copy\n",
      "  clean_readings_df[\"Error\"] = clean_readings_df[\"Glucose Reading\"] - clean_readings_df[\"Reference\"]\n",
      "/var/folders/mm/gnbdjwnd69l7pysl0_92wpfc0000gn/T/ipykernel_21268/3926547570.py:3: SettingWithCopyWarning: \n",
      "A value is trying to be set on a copy of a slice from a DataFrame.\n",
      "Try using .loc[row_indexer,col_indexer] = value instead\n",
      "\n",
      "See the caveats in the documentation: https://pandas.pydata.org/pandas-docs/stable/user_guide/indexing.html#returning-a-view-versus-a-copy\n",
      "  clean_readings_df[\"Error\"] = pd.to_numeric(np.abs(clean_readings_df[\"Error\"]))\n"
     ]
    }
   ],
   "source": [
    "# find the error of the result\n",
    "clean_readings_df[\"Error\"] = clean_readings_df[\"Glucose Reading\"] - clean_readings_df[\"Reference\"]\n",
    "clean_readings_df[\"Error\"] = pd.to_numeric(np.abs(clean_readings_df[\"Error\"]))"
   ]
  },
  {
   "cell_type": "code",
   "execution_count": null,
   "metadata": {
    "pycharm": {
     "name": "#%%\n"
    }
   },
   "outputs": [
    {
     "name": "stderr",
     "output_type": "stream",
     "text": [
      "/var/folders/mm/gnbdjwnd69l7pysl0_92wpfc0000gn/T/ipykernel_21268/1077757828.py:1: FutureWarning: The default value of numeric_only in DataFrameGroupBy.mean is deprecated. In a future version, numeric_only will default to False. Either specify numeric_only or select only columns which should be valid for the function.\n",
      "  clean_readings_df[clean_readings_df[\"Sample\"] == \"G*\"].groupby(\"Meter\").mean()[\"Glucose Reading\"] - clean_readings_df[clean_readings_df[\"Sample\"] == \"B*\"].groupby(\"Meter\").mean()[\"Glucose Reading\"]\n"
     ]
    },
    {
     "ename": "KeyError",
     "evalue": "'Glucose Reading'",
     "output_type": "error",
     "traceback": [
      "\u001b[0;31m---------------------------------------------------------------------------\u001b[0m",
      "\u001b[0;31mKeyError\u001b[0m                                  Traceback (most recent call last)",
      "File \u001b[0;32m/opt/homebrew/lib/python3.10/site-packages/pandas/core/indexes/base.py:3800\u001b[0m, in \u001b[0;36mIndex.get_loc\u001b[0;34m(self, key, method, tolerance)\u001b[0m\n\u001b[1;32m   3799\u001b[0m \u001b[39mtry\u001b[39;00m:\n\u001b[0;32m-> 3800\u001b[0m     \u001b[39mreturn\u001b[39;00m \u001b[39mself\u001b[39;49m\u001b[39m.\u001b[39;49m_engine\u001b[39m.\u001b[39;49mget_loc(casted_key)\n\u001b[1;32m   3801\u001b[0m \u001b[39mexcept\u001b[39;00m \u001b[39mKeyError\u001b[39;00m \u001b[39mas\u001b[39;00m err:\n",
      "File \u001b[0;32m/opt/homebrew/lib/python3.10/site-packages/pandas/_libs/index.pyx:138\u001b[0m, in \u001b[0;36mpandas._libs.index.IndexEngine.get_loc\u001b[0;34m()\u001b[0m\n",
      "File \u001b[0;32m/opt/homebrew/lib/python3.10/site-packages/pandas/_libs/index.pyx:165\u001b[0m, in \u001b[0;36mpandas._libs.index.IndexEngine.get_loc\u001b[0;34m()\u001b[0m\n",
      "File \u001b[0;32mpandas/_libs/hashtable_class_helper.pxi:5745\u001b[0m, in \u001b[0;36mpandas._libs.hashtable.PyObjectHashTable.get_item\u001b[0;34m()\u001b[0m\n",
      "File \u001b[0;32mpandas/_libs/hashtable_class_helper.pxi:5753\u001b[0m, in \u001b[0;36mpandas._libs.hashtable.PyObjectHashTable.get_item\u001b[0;34m()\u001b[0m\n",
      "\u001b[0;31mKeyError\u001b[0m: 'Glucose Reading'",
      "\nThe above exception was the direct cause of the following exception:\n",
      "\u001b[0;31mKeyError\u001b[0m                                  Traceback (most recent call last)",
      "Cell \u001b[0;32mIn [13], line 1\u001b[0m\n\u001b[0;32m----> 1\u001b[0m clean_readings_df[clean_readings_df[\u001b[39m\"\u001b[39m\u001b[39mSample\u001b[39m\u001b[39m\"\u001b[39m] \u001b[39m==\u001b[39m \u001b[39m\"\u001b[39m\u001b[39mG*\u001b[39m\u001b[39m\"\u001b[39m]\u001b[39m.\u001b[39mgroupby(\u001b[39m\"\u001b[39m\u001b[39mMeter\u001b[39m\u001b[39m\"\u001b[39m)\u001b[39m.\u001b[39mmean()[\u001b[39m\"\u001b[39m\u001b[39mGlucose Reading\u001b[39m\u001b[39m\"\u001b[39m] \u001b[39m-\u001b[39m clean_readings_df[clean_readings_df[\u001b[39m\"\u001b[39m\u001b[39mSample\u001b[39m\u001b[39m\"\u001b[39m] \u001b[39m==\u001b[39m \u001b[39m\"\u001b[39m\u001b[39mB*\u001b[39m\u001b[39m\"\u001b[39m]\u001b[39m.\u001b[39mgroupby(\u001b[39m\"\u001b[39m\u001b[39mMeter\u001b[39m\u001b[39m\"\u001b[39m)\u001b[39m.\u001b[39mmean()[\u001b[39m\"\u001b[39m\u001b[39mGlucose Reading\u001b[39m\u001b[39m\"\u001b[39m]\n",
      "File \u001b[0;32m/opt/homebrew/lib/python3.10/site-packages/pandas/core/frame.py:3805\u001b[0m, in \u001b[0;36mDataFrame.__getitem__\u001b[0;34m(self, key)\u001b[0m\n\u001b[1;32m   3803\u001b[0m \u001b[39mif\u001b[39;00m \u001b[39mself\u001b[39m\u001b[39m.\u001b[39mcolumns\u001b[39m.\u001b[39mnlevels \u001b[39m>\u001b[39m \u001b[39m1\u001b[39m:\n\u001b[1;32m   3804\u001b[0m     \u001b[39mreturn\u001b[39;00m \u001b[39mself\u001b[39m\u001b[39m.\u001b[39m_getitem_multilevel(key)\n\u001b[0;32m-> 3805\u001b[0m indexer \u001b[39m=\u001b[39m \u001b[39mself\u001b[39;49m\u001b[39m.\u001b[39;49mcolumns\u001b[39m.\u001b[39;49mget_loc(key)\n\u001b[1;32m   3806\u001b[0m \u001b[39mif\u001b[39;00m is_integer(indexer):\n\u001b[1;32m   3807\u001b[0m     indexer \u001b[39m=\u001b[39m [indexer]\n",
      "File \u001b[0;32m/opt/homebrew/lib/python3.10/site-packages/pandas/core/indexes/base.py:3802\u001b[0m, in \u001b[0;36mIndex.get_loc\u001b[0;34m(self, key, method, tolerance)\u001b[0m\n\u001b[1;32m   3800\u001b[0m     \u001b[39mreturn\u001b[39;00m \u001b[39mself\u001b[39m\u001b[39m.\u001b[39m_engine\u001b[39m.\u001b[39mget_loc(casted_key)\n\u001b[1;32m   3801\u001b[0m \u001b[39mexcept\u001b[39;00m \u001b[39mKeyError\u001b[39;00m \u001b[39mas\u001b[39;00m err:\n\u001b[0;32m-> 3802\u001b[0m     \u001b[39mraise\u001b[39;00m \u001b[39mKeyError\u001b[39;00m(key) \u001b[39mfrom\u001b[39;00m \u001b[39merr\u001b[39;00m\n\u001b[1;32m   3803\u001b[0m \u001b[39mexcept\u001b[39;00m \u001b[39mTypeError\u001b[39;00m:\n\u001b[1;32m   3804\u001b[0m     \u001b[39m# If we have a listlike key, _check_indexing_error will raise\u001b[39;00m\n\u001b[1;32m   3805\u001b[0m     \u001b[39m#  InvalidIndexError. Otherwise we fall through and re-raise\u001b[39;00m\n\u001b[1;32m   3806\u001b[0m     \u001b[39m#  the TypeError.\u001b[39;00m\n\u001b[1;32m   3807\u001b[0m     \u001b[39mself\u001b[39m\u001b[39m.\u001b[39m_check_indexing_error(key)\n",
      "\u001b[0;31mKeyError\u001b[0m: 'Glucose Reading'"
     ]
    }
   ],
   "source": [
    "clean_readings_df[clean_readings_df[\"Sample\"] == \"G*\"].groupby(\"Meter\").mean()[\"Glucose Reading\"] - clean_readings_df[clean_readings_df[\"Sample\"] == \"B*\"].groupby(\"Meter\").mean()[\"Glucose Reading\"]"
   ]
  },
  {
   "cell_type": "code",
   "execution_count": null,
   "metadata": {
    "pycharm": {
     "is_executing": true,
     "name": "#%%\n"
    }
   },
   "outputs": [],
   "source": [
    "readings_df[readings_df[\"Haematocrit\"] == False].to_csv(\"temp.csv\")"
   ]
  },
  {
   "cell_type": "code",
   "execution_count": null,
   "metadata": {
    "pycharm": {
     "name": "#%%\n"
    }
   },
   "outputs": [
    {
     "data": {
      "text/plain": [
       "Text(0, 0.5, '$\\\\frac{I_{enz}}{nFk_2[E_{enz}]}$')"
      ]
     },
     "execution_count": 15,
     "metadata": {},
     "output_type": "execute_result"
    },
    {
     "data": {
      "image/png": "[encoded data removed]",
      "text/plain": [
       "<Figure size 640x480 with 1 Axes>"
      ]
     },
     "metadata": {},
     "output_type": "display_data"
    }
   ],
   "source": [
    "# honestly no clue what this is but it may be useful?\n",
    "S = np.arange(0,6,0.01)\n",
    "Km = 0.24\n",
    "y = S/(Km+S)\n",
    "for i in [0.0015,0.0050,0.0070, 0.01]:\n",
    "    plt.plot(S,y*i, label = f\"d={i}\")\n",
    "plt.legend()\n",
    "plt.xlabel(\"Substrate Concentration\")\n",
    "plt.ylabel(\"$\\\\frac{I_{enz}}{nFk_2[E_{enz}]}$\")\n"
   ]
  },
  {
   "cell_type": "code",
   "execution_count": null,
   "metadata": {},
   "outputs": [],
   "source": []
  }
 ],
 "metadata": {
  "kernelspec": {
   "display_name": "Python 3.10.8 64-bit",
   "language": "python",
   "name": "python3"
  },
  "language_info": {
   "codemirror_mode": {
    "name": "ipython",
    "version": 3
   },
   "file_extension": ".py",
   "mimetype": "text/x-python",
   "name": "python",
   "nbconvert_exporter": "python",
   "pygments_lexer": "ipython3",
   "version": "3.10.8"
  },
  "orig_nbformat": 4,
  "vscode": {
   "interpreter": {
    "hash": "b0fa6594d8f4cbf19f97940f81e996739fb7646882a419484c72d19e05852a7e"
   }
  }
 },
 "nbformat": 4,
 "nbformat_minor": 2
}
